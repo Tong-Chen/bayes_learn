{
 "cells": [
  {
   "cell_type": "markdown",
   "metadata": {},
   "source": [
    "## Bayes learn (Chapter 3)"
   ]
  },
  {
   "cell_type": "code",
   "execution_count": 24,
   "metadata": {
    "collapsed": true
   },
   "outputs": [],
   "source": [
    "%matplotlib inline\n",
    "\n",
    "import matplotlib\n",
    "import numpy as np\n",
    "import matplotlib.pyplot as plt\n",
    "\n",
    "def lineplot(x, y):\n",
    "    plt.plot(x,y)"
   ]
  },
  {
   "cell_type": "code",
   "execution_count": 28,
   "metadata": {
    "collapsed": true
   },
   "outputs": [],
   "source": [
    "from __future__ import division, unicode_literals\n",
    "import logging\n",
    "\n",
    "class Bayes(object):\n",
    "    \"\"\"A bayes class, mainly a dictionary\"\"\"\n",
    "    def __init__(self, hypos=None, name=''):\n",
    "        \"\"\"\n",
    "        Initialize the distribution.\n",
    "        \n",
    "        hypos: sequence of hypotheses\n",
    "        \"\"\"\n",
    "        self.name = name\n",
    "        self.pmf = {}\n",
    "        if hypos is None:\n",
    "            return\n",
    "        \n",
    "        self.hypos = hypos\n",
    "        # Initiate the class object\n",
    "        # Three initalize methods are used to deal with different types of input\n",
    "        # \n",
    "        init_methods = [\n",
    "            self.InitPmf,\n",
    "            self.InitMapping,  #A dict\n",
    "            self.InitSequence, #equal probability for all hypos\n",
    "            self.InitFailure,\n",
    "        ]\n",
    "        \n",
    "        for method in init_methods:\n",
    "            try:\n",
    "                method(hypos)\n",
    "                break\n",
    "            except AttributeError:\n",
    "                continue\n",
    "        \n",
    "        if len(self):\n",
    "            self.Normalize()\n",
    "    \n",
    "    def __str__(self):\n",
    "        '''\n",
    "        Stringlize self.pmf\n",
    "        '''\n",
    "        tmpL = [\"Probability table\"]\n",
    "        for hypo, prob in sorted(self.pmf.iteritems()):\n",
    "            tmpL.append('\\t'.join([str(hypo), str(prob)]))\n",
    "        return '\\n'.join(tmpL)\n",
    "    \n",
    "    def InitSequence(self, hypos):\n",
    "        \"\"\"\n",
    "        Initialize with a sequence of hypos with equal probabilities.\n",
    "        \n",
    "        hypos: ['H1','H2','H3',...]\n",
    "        \"\"\"\n",
    "        for hypo in hypos:\n",
    "            self.Set(hypo, 1)\n",
    "    \n",
    "    def InitMapping(self, hypos):\n",
    "        \"\"\"\n",
    "        Initialize with a map from value to probablity (a dict).\n",
    "        \n",
    "        hypos = {'H1':1, 'H2':5, 'H3':4}\n",
    "        \"\"\"\n",
    "        for hypo, prob in hypos.iteritems():\n",
    "            self.Set(hypo, prob)\n",
    "    \n",
    "    def InitPmf(self, hypos):\n",
    "        \"\"\"\n",
    "        Initialize with a Bayes object.\n",
    "        \n",
    "        hypos = Bayes()\n",
    "        \"\"\"\n",
    "        for hypo, prob in hypos.iteritems():\n",
    "            self.Set(hypo, prob)\n",
    "    \n",
    "    def InitFailure(self, hypos):\n",
    "        \"\"\"Raise an errot\"\"\"\n",
    "        raise ValueError(\"None of the initialization methods works.\")\n",
    "    \n",
    "    def __len__(self):\n",
    "        return len(self.pmf)\n",
    "    \n",
    "    def Set(self, hypo, prob=0):\n",
    "        \"\"\"\n",
    "        Set hypo-prob pair\n",
    "        \"\"\"\n",
    "        self.pmf[hypo] = prob\n",
    "    \n",
    "    def Print(self):\n",
    "        \"\"\"Print the values and freqs in asending order.\"\"\"\n",
    "        for hypo, prob in sorted(self.pmf.iteritems()):\n",
    "            print hypo, prob\n",
    "    \n",
    "    def Normalize(self):\n",
    "        \"\"\"\n",
    "        Normalize probability\n",
    "        \"\"\"\n",
    "        total = float(sum(self.pmf.values()))\n",
    "        if total == 0.0:\n",
    "            raise ValueError('total probability is zero.')\n",
    "            logging.warning('Normalize: total probability is zero.')\n",
    "            return total\n",
    "        \n",
    "        factor = 1 / total\n",
    "        \n",
    "        for hypo in self.pmf:\n",
    "            self.pmf[hypo] *= factor\n",
    "    \n",
    "    def Items(self):\n",
    "        '''Return two lists, hypos_list and probability_list'''\n",
    "        if isinstance(self.hypos, list):\n",
    "            hypos = self.hypos\n",
    "        else:\n",
    "            hypos = self.pmf.keys()\n",
    "            hypos.sort()\n",
    "        probs = [self.pmf[hypo] for hypo in hypos]\n",
    "        return hypos, probs\n",
    "    \n",
    "    def Mult(self, hypo, likelihood):\n",
    "        '''\n",
    "        Update given hypo probability by given likelihood\n",
    "        '''\n",
    "        self.pmf[hypo] = self.pmf.get(hypo,0) * likelihood\n",
    "    \n",
    "    def Prob(self, hypo, default=0):\n",
    "        \"\"\"\n",
    "        Get the probability of given hypo.\n",
    "        \"\"\"\n",
    "        return self.pmf.get(hypo, default)\n",
    "    \n",
    "    def Update(self,dataL):\n",
    "        '''\n",
    "        Update all hypo probability by given obervation.\n",
    "        \n",
    "        dataL: A list of observations.\n",
    "        '''\n",
    "        for data in dataL:\n",
    "            for hypo, prob in self.pmf.iteritems():\n",
    "                self.pmf[hypo] = prob * self.Likelihood(hypo, data)\n",
    "        self.Normalize()\n",
    "    \n",
    "    def Likelihood(self, hypo, data):\n",
    "        psss"
   ]
  },
  {
   "cell_type": "markdown",
   "metadata": {},
   "source": [
    "### 1 筛子问题\n",
    "\n",
    "Suppose I have a box of dice that contains a 4-sided die, a 6-sided die, an 8-sided die, a 12-sided die, and a 20-sided die. Suppose I select a die from the box at random, roll it, and get a 6. What is the probability that I rolled each die?\n",
    "\n",
    "我有一盒筛子，共有5种类型，包括4个面的、6个面的、8个面的、12个面的和20个面的筛子。从中随机选出一个筛子，摇一下，得到一个6。那么每个筛子被选择的概率是多少？"
   ]
  },
  {
   "cell_type": "markdown",
   "metadata": {},
   "source": [
    "* 观察到的数据 D：筛子显示6\n",
    "* 假设：\n",
    "    * H1: 选择4面的筛子\n",
    "    * H2：选择6面的筛子\n",
    "    * H3：选择8面的筛子\n",
    "    * H4：选择12面的筛子\n",
    "    * H5：选择20面的筛子\n",
    "\n",
    "* 在程序化实现时，我们也需要这么考虑\n",
    "    * 合理的表示观察到的数据\n",
    "    * 合理的表示假设\n",
    "    * 重构似然值函数"
   ]
  },
  {
   "cell_type": "code",
   "execution_count": 6,
   "metadata": {
    "collapsed": false,
    "scrolled": true
   },
   "outputs": [
    {
     "name": "stdout",
     "output_type": "stream",
     "text": [
      "Prior probability\n",
      "\n",
      "Probability table\n",
      "4\t0.2\n",
      "6\t0.2\n",
      "8\t0.2\n",
      "12\t0.2\n",
      "20\t0.2\n",
      "\n",
      "\n",
      "Posterior probability\n",
      "\n",
      "Probability table\n",
      "4\t0.0\n",
      "6\t0.392156862745\n",
      "8\t0.294117647059\n",
      "12\t0.196078431373\n",
      "20\t0.117647058824\n"
     ]
    }
   ],
   "source": [
    "class Dice(Bayes):\n",
    "    '''\n",
    "    Dice class\n",
    "    '''\n",
    "\n",
    "    def Likelihood(self, hypo, data):\n",
    "        if hypo < data:\n",
    "            return 0\n",
    "        else:\n",
    "            return 1/hypo\n",
    "#--------END class DIce--------------\n",
    "    \n",
    "hypos = [4, 6, 8, 12, 20]\n",
    "\n",
    "dice = Dice(hypos)\n",
    "print \"Prior probability\\n\"\n",
    "print dice\n",
    "\n",
    "dataL = [6]\n",
    "\n",
    "dice.Update(dataL)\n",
    "print \"\\n\\nPosterior probability\\n\"\n",
    "print dice"
   ]
  },
  {
   "cell_type": "markdown",
   "metadata": {},
   "source": [
    "从结果可以看到，获得一个6，选取的肯定不是4个面的筛子。最可能的是选取了6个面的筛子，但20个面的筛子也有12%的机会被选择到。他们自己的概率相差不是太大。"
   ]
  },
  {
   "cell_type": "markdown",
   "metadata": {},
   "source": [
    "#### 1.1 假如我们摇筛子更多次，共依次获得了6,6,8,7,7,5,4,那么不同筛子被选择的概率是多少？"
   ]
  },
  {
   "cell_type": "code",
   "execution_count": 9,
   "metadata": {
    "collapsed": false
   },
   "outputs": [
    {
     "name": "stdout",
     "output_type": "stream",
     "text": [
      "Prior probability\n",
      "\n",
      "Probability table\n",
      "4\t0.2\n",
      "6\t0.2\n",
      "8\t0.2\n",
      "12\t0.2\n",
      "20\t0.2\n",
      "Posterior probability\n",
      "\n",
      "Probability table\n",
      "4\t0.0\n",
      "6\t0.0\n",
      "8\t0.943248453672\n",
      "12\t0.0552061280613\n",
      "20\t0.0015454182665\n"
     ]
    }
   ],
   "source": [
    "class Dice(Bayes):\n",
    "    '''\n",
    "    Dice class\n",
    "    '''\n",
    "\n",
    "    def Likelihood(self, hypo, data):\n",
    "        if hypo < data:\n",
    "            return 0\n",
    "        else:\n",
    "            return 1/hypo\n",
    "#--------END class DIce--------------\n",
    "    \n",
    "hypos = [4, 6, 8, 12, 20]\n",
    "\n",
    "dice = Dice(hypos)\n",
    "print \"Prior probability\\n\"\n",
    "print dice\n",
    "\n",
    "dataL = [6,6,8,7,7,5,4]\n",
    "\n",
    "dice.Update(dataL)\n",
    "print \"Posterior probability\\n\"\n",
    "print dice"
   ]
  },
  {
   "cell_type": "markdown",
   "metadata": {},
   "source": [
    "8个面的筛子被选择的概率为0.94，占绝对优势；其它面筛子被选择的概率低于0.06。越来越多的观察数据更有利于我们做出判断。"
   ]
  },
  {
   "cell_type": "markdown",
   "metadata": {},
   "source": [
    "### 2 The locomotive problem"
   ]
  },
  {
   "cell_type": "markdown",
   "metadata": {},
   "source": [
    "A railroad numbers its locomotives in order 1..N. One day you see a locomotive with the number 60. Estimate how many locomotives the railroad has.\n",
    "\n",
    "一个铁路公司对对其拥有的火车按照从小到大分别编号为1,2,3...,N。某一天，你看到一个编号为60的火车，那么请问这个铁路公司有多少火车。"
   ]
  },
  {
   "cell_type": "markdown",
   "metadata": {},
   "source": [
    "首先还是列出解决问题的三要素：\n",
    "    * 观察到的数据 D: 火车编号为60\n",
    "    * 假设：\n",
    "        * H1：铁路公司有1辆火车\n",
    "        * H2: 铁路公司有2辆火车\n",
    "        * H3：铁路公司有3辆火车\n",
    "        * .\n",
    "        * .\n",
    "        * .\n",
    "        * Hn:铁路公司有N量火车\n",
    "    * 似然函数：与筛子问题相似\n",
    "\n",
    "除了这三要素之外，我们再做两个假设，只是为了解决问题的方便 （这也是我们思考问题的一个方法，先定个小目标，做个小测试，有个直观的概念，再进一步思考）：\n",
    "    * 另外我们假设拥有不同数目的火车的铁路公司出现的概率是一样的。\n",
    "    * 我们假设N最大为1000。\n",
    "    * 假设我们只关注这个公司的火车或者只有这个公司的火车有这种编号。"
   ]
  },
  {
   "cell_type": "markdown",
   "metadata": {},
   "source": [
    "原文中关于此问题解答的描述：\n",
    "\n",
    "To apply Bayesian reasoning, we can break this problem into two steps:\n",
    "\n",
    "1. What did we know about N before we saw the data?\n",
    "2. For any given value of N, what is the likelihood of seeing the data (a\n",
    "locomotive with number 60)?\n",
    "\n",
    "The answer to the first question is the prior. The answer to the second is the\n",
    "likelihood.\n",
    "\n",
    "We don’t have much basis to choose a prior, but we can start with something\n",
    "simple and then consider alternatives. Let’s assume that N is equally likely\n",
    "to be any value from 1 to 1000."
   ]
  },
  {
   "cell_type": "code",
   "execution_count": 34,
   "metadata": {
    "collapsed": false
   },
   "outputs": [
    {
     "data": {
      "text/plain": [
       "<matplotlib.text.Text at 0x77a8a90>"
      ]
     },
     "execution_count": 34,
     "metadata": {},
     "output_type": "execute_result"
    },
    {
     "data": {
      "image/png": "[encoded data removed]",
      "text/plain": [
       "<matplotlib.figure.Figure at 0x76df080>"
      ]
     },
     "metadata": {},
     "output_type": "display_data"
    }
   ],
   "source": [
    "class Locomotive(Bayes):\n",
    "    '''\n",
    "    Dice class\n",
    "    '''\n",
    "\n",
    "    def Likelihood(self, hypo, data):\n",
    "        if hypo < data:\n",
    "            return 0\n",
    "        else:\n",
    "            return 1/hypo\n",
    "#--------END class DIce--------------\n",
    "    \n",
    "hypos = [i for i in range(1,1001)]\n",
    "\n",
    "locomotive = Locomotive(hypos)\n",
    "#print \"Prior probability\\n\"\n",
    "#print locomotive\n",
    "\n",
    "dataL = [60]\n",
    "\n",
    "locomotive.Update(dataL)\n",
    "#print \"\\n\\nPosterior probability\\n\"\n",
    "#print locomotive\n",
    "\n",
    "hypos, probs = locomotive.Items()\n",
    "\n",
    "plt.plot(hypos, probs)\n",
    "plt.xlabel('Hypotheses')\n",
    "plt.ylabel('Probabilities')"
   ]
  },
  {
   "cell_type": "markdown",
   "metadata": {},
   "source": [
    "因为有太多值要展示，我们就用图形表示。从图中可以看出，所有小于60的假设的概率都为0.概率最高的为60.如果我们要猜测最好是猜测60. 但这并不是最好的结果，我们可以算出一个后验分布的期望值，即`对每个假设乘以其出现的概率再求和`。"
   ]
  },
  {
   "cell_type": "code",
   "execution_count": 35,
   "metadata": {
    "collapsed": true
   },
   "outputs": [],
   "source": [
    "from __future__ import division, unicode_literals\n",
    "import logging\n",
    "\n",
    "class Bayes(object):\n",
    "    \"\"\"A bayes class, mainly a dictionary\"\"\"\n",
    "    def __init__(self, hypos=None, name=''):\n",
    "        \"\"\"\n",
    "        Initialize the distribution.\n",
    "        \n",
    "        hypos: sequence of hypotheses\n",
    "        \"\"\"\n",
    "        self.name = name\n",
    "        self.pmf = {}\n",
    "        if hypos is None:\n",
    "            return\n",
    "        \n",
    "        self.hypos = hypos\n",
    "        # Initiate the class object\n",
    "        # Three initalize methods are used to deal with different types of input\n",
    "        # \n",
    "        init_methods = [\n",
    "            self.InitPmf,\n",
    "            self.InitMapping,  #A dict\n",
    "            self.InitSequence, #equal probability for all hypos\n",
    "            self.InitFailure,\n",
    "        ]\n",
    "        \n",
    "        for method in init_methods:\n",
    "            try:\n",
    "                method(hypos)\n",
    "                break\n",
    "            except AttributeError:\n",
    "                continue\n",
    "        \n",
    "        if len(self):\n",
    "            self.Normalize()\n",
    "    \n",
    "    def __str__(self):\n",
    "        '''\n",
    "        Stringlize self.pmf\n",
    "        '''\n",
    "        tmpL = [\"Probability table\"]\n",
    "        for hypo, prob in sorted(self.pmf.iteritems()):\n",
    "            tmpL.append('\\t'.join([str(hypo), str(prob)]))\n",
    "        return '\\n'.join(tmpL)\n",
    "    \n",
    "    def InitSequence(self, hypos):\n",
    "        \"\"\"\n",
    "        Initialize with a sequence of hypos with equal probabilities.\n",
    "        \n",
    "        hypos: ['H1','H2','H3',...]\n",
    "        \"\"\"\n",
    "        for hypo in hypos:\n",
    "            self.Set(hypo, 1)\n",
    "    \n",
    "    def InitMapping(self, hypos):\n",
    "        \"\"\"\n",
    "        Initialize with a map from value to probablity (a dict).\n",
    "        \n",
    "        hypos = {'H1':1, 'H2':5, 'H3':4}\n",
    "        \"\"\"\n",
    "        for hypo, prob in hypos.iteritems():\n",
    "            self.Set(hypo, prob)\n",
    "    \n",
    "    def InitPmf(self, hypos):\n",
    "        \"\"\"\n",
    "        Initialize with a Bayes object.\n",
    "        \n",
    "        hypos = Bayes()\n",
    "        \"\"\"\n",
    "        for hypo, prob in hypos.iteritems():\n",
    "            self.Set(hypo, prob)\n",
    "    \n",
    "    def InitFailure(self, hypos):\n",
    "        \"\"\"Raise an errot\"\"\"\n",
    "        raise ValueError(\"None of the initialization methods works.\")\n",
    "    \n",
    "    def __len__(self):\n",
    "        return len(self.pmf)\n",
    "    \n",
    "    def Set(self, hypo, prob=0):\n",
    "        \"\"\"\n",
    "        Set hypo-prob pair\n",
    "        \"\"\"\n",
    "        self.pmf[hypo] = prob\n",
    "    \n",
    "    def Print(self):\n",
    "        \"\"\"Print the values and freqs in asending order.\"\"\"\n",
    "        for hypo, prob in sorted(self.pmf.iteritems()):\n",
    "            print hypo, prob\n",
    "    \n",
    "    def Normalize(self):\n",
    "        \"\"\"\n",
    "        Normalize probability\n",
    "        \"\"\"\n",
    "        total = float(sum(self.pmf.values()))\n",
    "        if total == 0.0:\n",
    "            raise ValueError('total probability is zero.')\n",
    "            logging.warning('Normalize: total probability is zero.')\n",
    "            return total\n",
    "        \n",
    "        factor = 1 / total\n",
    "        \n",
    "        for hypo in self.pmf:\n",
    "            self.pmf[hypo] *= factor\n",
    "    \n",
    "    def Items(self):\n",
    "        '''Return two lists, hypos_list and probability_list'''\n",
    "        if isinstance(self.hypos, list):\n",
    "            hypos = self.hypos\n",
    "        else:\n",
    "            hypos = self.pmf.keys()\n",
    "            hypos.sort()\n",
    "        probs = [self.pmf[hypo] for hypo in hypos]\n",
    "        return hypos, probs\n",
    "    \n",
    "    def Mult(self, hypo, likelihood):\n",
    "        '''\n",
    "        Update given hypo probability by given likelihood\n",
    "        '''\n",
    "        self.pmf[hypo] = self.pmf.get(hypo,0) * likelihood\n",
    "    \n",
    "    def Prob(self, hypo, default=0):\n",
    "        \"\"\"\n",
    "        Get the probability of given hypo.\n",
    "        \"\"\"\n",
    "        return self.pmf.get(hypo, default)\n",
    "    \n",
    "    def Update(self,dataL):\n",
    "        '''\n",
    "        Update all hypo probability by given obervation.\n",
    "        \n",
    "        dataL: A list of observations.\n",
    "        '''\n",
    "        for data in dataL:\n",
    "            for hypo, prob in self.pmf.iteritems():\n",
    "                self.pmf[hypo] = prob * self.Likelihood(hypo, data)\n",
    "        self.Normalize()\n",
    "    \n",
    "    def Likelihood(self, hypo, data):\n",
    "        '''\n",
    "        Re-constructed in child class\n",
    "        '''\n",
    "        psss\n",
    "    \n",
    "    def Mean(self):\n",
    "        '''\n",
    "        Compute the weighted hypothesis using posterior probabilities.\n",
    "        '''\n",
    "        total = 0\n",
    "        for hypo, prob in self.pmf.iteritems():\n",
    "            total += hypo * prob\n",
    "        return total"
   ]
  },
  {
   "cell_type": "code",
   "execution_count": 36,
   "metadata": {
    "collapsed": false
   },
   "outputs": [
    {
     "name": "stdout",
     "output_type": "stream",
     "text": [
      "Expected locomotive numbers are: 333.419893264\n"
     ]
    }
   ],
   "source": [
    "class Locomotive(Bayes):\n",
    "    '''\n",
    "    Dice class\n",
    "    '''\n",
    "\n",
    "    def Likelihood(self, hypo, data):\n",
    "        if hypo < data:\n",
    "            return 0\n",
    "        else:\n",
    "            return 1/hypo\n",
    "#--------END class DIce--------------\n",
    "    \n",
    "hypos = [i for i in range(1,1001)]\n",
    "\n",
    "locomotive = Locomotive(hypos)\n",
    "#print \"Prior probability\\n\"\n",
    "#print locomotive\n",
    "\n",
    "dataL = [60]\n",
    "\n",
    "locomotive.Update(dataL)\n",
    "\n",
    "print \"Expected locomotive numbers are:\", locomotive.Mean()"
   ]
  },
  {
   "cell_type": "markdown",
   "metadata": {},
   "source": [
    "这看上去是个很好的猜测，333，如果持续的猜测的话，采用基于后验概率的加权平均值作为估计值，可以最小化均方误差。"
   ]
  },
  {
   "cell_type": "markdown",
   "metadata": {},
   "source": [
    "下一步我们检测下，选择不同的`N`，对这个加权平均值的影响会有多大？"
   ]
  },
  {
   "cell_type": "code",
   "execution_count": 42,
   "metadata": {
    "collapsed": false
   },
   "outputs": [
    {
     "data": {
      "text/plain": [
       "<matplotlib.text.Text at 0x8981400>"
      ]
     },
     "execution_count": 42,
     "metadata": {},
     "output_type": "execute_result"
    },
    {
     "data": {
      "image/png": "[encoded data removed]",
      "text/plain": [
       "<matplotlib.figure.Figure at 0x8af0f60>"
      ]
     },
     "metadata": {},
     "output_type": "display_data"
    }
   ],
   "source": [
    "class Locomotive(Bayes):\n",
    "    '''\n",
    "    Dice class\n",
    "    '''\n",
    "\n",
    "    def Likelihood(self, hypo, data):\n",
    "        if hypo < data:\n",
    "            return 0\n",
    "        else:\n",
    "            return 1/hypo\n",
    "#--------END class DIce--------------\n",
    "    \n",
    "def testE(N, dataL):\n",
    "    hypos = [i for i in range(1,N)]\n",
    "    locomotive = Locomotive(hypos)\n",
    "    locomotive.Update(dataL)\n",
    "    return locomotive.Mean()\n",
    "\n",
    "N = range(100,10000,50)\n",
    "dataL = [60]\n",
    "expectN = []\n",
    "\n",
    "for i in N:\n",
    "    expectN.append(testE(i, dataL))\n",
    "\n",
    "plt.plot(N, expectN)\n",
    "plt.xlabel('Maximum number of locomotives')\n",
    "plt.ylabel('Expected locomotive number')"
   ]
  },
  {
   "cell_type": "markdown",
   "metadata": {},
   "source": [
    "这个结果看上去并不好，因为我们的加权期望值与我们最初的假设成正相关，即我们假设这个铁路公司拥有的火车越多，那么我们计算出的这个铁路公司最大期望的火车也越多。"
   ]
  },
  {
   "cell_type": "markdown",
   "metadata": {},
   "source": [
    "在解决locomotive问题时，我们不得不做一些假设，当然其中一些假设是很武断的。比如说我们认为这个铁路公司拥有的火车数目不会超过1000个。但事实中，有超过1000个火车的铁路公司是可以存在的，每个人会提出不同的假设。而我们这个先验假设对后验平均值的影响又很大。因此我们不得不做进一步的评估。为了得到合理的结果，我们有两条路可走：\n",
    "    * 获得更多的观察数据，随着观察数据的增多，后验分布有可能收敛。\n",
    "    * 获得更多的背景信息，提出更好的先验概率模型。"
   ]
  },
  {
   "cell_type": "markdown",
   "metadata": {},
   "source": [
    "#### 2.1 locomotive problem with more oberved data"
   ]
  },
  {
   "cell_type": "code",
   "execution_count": 41,
   "metadata": {
    "collapsed": false
   },
   "outputs": [
    {
     "data": {
      "text/plain": [
       "<matplotlib.text.Text at 0x8184e10>"
      ]
     },
     "execution_count": 41,
     "metadata": {},
     "output_type": "execute_result"
    },
    {
     "data": {
      "image/png": "[encoded data removed]",
      "text/plain": [
       "<matplotlib.figure.Figure at 0x77b7278>"
      ]
     },
     "metadata": {},
     "output_type": "display_data"
    }
   ],
   "source": [
    "class Locomotive(Bayes):\n",
    "    '''\n",
    "    Dice class\n",
    "    '''\n",
    "\n",
    "    def Likelihood(self, hypo, data):\n",
    "        if hypo < data:\n",
    "            return 0\n",
    "        else:\n",
    "            return 1/hypo\n",
    "#--------END class DIce--------------\n",
    "    \n",
    "def testE(N, dataL):\n",
    "    hypos = [i for i in range(1,N)]\n",
    "    locomotive = Locomotive(hypos)\n",
    "\n",
    "    locomotive.Update(dataL)\n",
    "    return locomotive.Mean()\n",
    "\n",
    "N = range(100,10001,50)\n",
    "dataL = [60, 30, 90]\n",
    "expectN = []\n",
    "\n",
    "for i in N:\n",
    "    expectN.append(testE(i, dataL))\n",
    "\n",
    "plt.plot(N, expectN)\n",
    "#print zip(N, expectN)\n",
    "plt.xlabel('Maximum number of locomotives')\n",
    "plt.ylabel('Expected locomotive number')"
   ]
  },
  {
   "cell_type": "markdown",
   "metadata": {},
   "source": [
    "从图中可以看出，当我们增加了观察数据后，后验概率的分布趋于收敛。"
   ]
  },
  {
   "cell_type": "markdown",
   "metadata": {},
   "source": [
    "#### 2.2 locomotive problem with alternative prior"
   ]
  },
  {
   "cell_type": "markdown",
   "metadata": {},
   "source": [
    "之前我们的先验假设中认为，公司拥有1量火车和拥有1000量火车的概率是相等的。在现实生活中，这可能是不合理的。\n",
    "\n",
    "我们可以通过查阅质量，收集铁路公司的典型大小。\n",
    "\n",
    "或者，我们可以做一个更理性的猜测。在很多领域，小公司很多，中等规模的公司较少，超大型公司更少。根据[文献报道](http://www.sciencemag.org/content/293/5536/1818.full.pdf),公司大小的分布遵循幂次定律([Power law](https://en.wikipedia.org/wiki/Power_law)。\n",
    "\n",
    "\"幂次法则\"也叫“80-20法则”，由经济学家维尔弗雷多.帕累托在1906年提出，他认为：在任何一组东西中，最重要的只占其中一小部分，约20%，其余80%尽管是多数，却是次要的。幂次法则指的是事物的发展，其规模与次数成反比，规模越大，次数越少。\n",
    "\n",
    "也就是说，如果有1000个铁路公司拥有少于10辆火车，那么可能有100个公司拥有100辆火车，10个公司拥有1000辆火车，1个公司拥有10,000辆火车。\n",
    "\n",
    "用数学语言描述，公司的数目与其规模呈负相关。\n",
    "\n",
    "\\begin{equation*}\n",
    "PMF(x) = \\Bigl(\\frac{1}{x}\\Bigr)^ \\alpha\n",
    "\\end{equation*}\n",
    "\n",
    "PMF(x)是x的概率密度函数，α是参数，通常为1.\n",
    "\n",
    "那么我们使用新的先验概率分布再次解决下这个问题。"
   ]
  },
  {
   "cell_type": "code",
   "execution_count": 51,
   "metadata": {
    "collapsed": false
   },
   "outputs": [
    {
     "name": "stdout",
     "output_type": "stream",
     "text": [
      "130.69568746\n"
     ]
    }
   ],
   "source": [
    "class Locomotive(Bayes):\n",
    "    '''\n",
    "    Dice class\n",
    "    '''\n",
    "\n",
    "    def Likelihood(self, hypo, data):\n",
    "        if hypo < data:\n",
    "            return 0\n",
    "        else:\n",
    "            return 1/hypo\n",
    "#--------END class DIce--------------\n",
    "\n",
    "N = 500\n",
    "\n",
    "hypos = [i for i in range(1,N)]    \n",
    "hypos_prob = [1/i for i in hypos]   \n",
    "#print hypos_prob\n",
    "hyposD = dict(zip(hypos,hypos_prob))\n",
    "    \n",
    "locomotive = Locomotive(hyposD)\n",
    "#print locomotive\n",
    "\n",
    "dataL = [30,60,90]\n",
    "locomotive.Update(dataL)\n",
    "print locomotive.Mean()"
   ]
  },
  {
   "cell_type": "code",
   "execution_count": 53,
   "metadata": {
    "collapsed": false
   },
   "outputs": [
    {
     "data": {
      "text/plain": [
       "<matplotlib.text.Text at 0x96ee0b8>"
      ]
     },
     "execution_count": 53,
     "metadata": {},
     "output_type": "execute_result"
    },
    {
     "data": {
      "image/png": "[encoded data removed]",
      "text/plain": [
       "<matplotlib.figure.Figure at 0x78ac128>"
      ]
     },
     "metadata": {},
     "output_type": "display_data"
    }
   ],
   "source": [
    "class Locomotive(Bayes):\n",
    "    '''\n",
    "    Dice class\n",
    "    '''\n",
    "\n",
    "    def Likelihood(self, hypo, data):\n",
    "        if hypo < data:\n",
    "            return 0\n",
    "        else:\n",
    "            return 1/hypo\n",
    "#--------END class DIce--------------\n",
    "    \n",
    "def testE(N, dataL):\n",
    "    hypos = [i for i in range(1,N)]    \n",
    "    hypos_prob = [1/i for i in hypos]    \n",
    "    hyposD = dict(zip(hypos,hypos_prob))\n",
    "    \n",
    "    locomotive = Locomotive(hyposD)\n",
    "\n",
    "    locomotive.Update(dataL)\n",
    "    return locomotive.Mean()\n",
    "\n",
    "N = range(100,10001,50)\n",
    "#N = [500,1000,2000]\n",
    "\n",
    "dataL = [30,60,90]\n",
    "expectN = []\n",
    "\n",
    "for i in N:\n",
    "    expectN.append(testE(i, dataL))\n",
    "\n",
    "plt.plot(N, expectN)\n",
    "#print zip(N, expectN)\n",
    "plt.xlabel('Maximum number of locomotives')\n",
    "plt.ylabel('Expected locomotive number')"
   ]
  },
  {
   "cell_type": "markdown",
   "metadata": {},
   "source": [
    "从图中可以看出，在`Power law`先验概率下，后验加权平均值收敛于134."
   ]
  },
  {
   "cell_type": "markdown",
   "metadata": {},
   "source": [
    "### 3 置信区间"
   ]
  },
  {
   "cell_type": "markdown",
   "metadata": {},
   "source": [
    "Once you have computed a posterior distribution, it is often useful to summarize the results with a single point estimate or an interval. For point estimates it is common to use the mean, median, or the value with maximum likelihood.\n",
    "\n",
    "For intervals we usually report two values computed so that there is a 90%\n",
    "chance that the unknown value falls between them (or any other probability).\n",
    "These values define a credible interval.\n",
    "\n",
    "A simple way to compute a credible interval is to add up the probabilities\n",
    "in the posterior distribution and record the values that correspond to probabilities\n",
    "5% and 95%. In other words, the 5th and 95th percentiles.\n",
    "\n",
    "当我们计算出后验概率分布后，通常需要计算出一个点或者一个区间对结果进行估计。如果用一个点估计，通常是加权平均值，种植或者最有最大似然值的假设。\n",
    "\n",
    "当采用区间时，我们会计算出其上下边界以保证有90%的概率，我们预测的值落在此区间内，这一区间就被定义为置信区间。\n",
    "\n",
    "一个简单的计算方式是，对假设排序~~后验概率~~排序后，把后验概率相加，计算出加和为5%和95%时的假设，即为区间的边界。"
   ]
  },
  {
   "cell_type": "code",
   "execution_count": 58,
   "metadata": {
    "collapsed": true
   },
   "outputs": [],
   "source": [
    "from __future__ import division, unicode_literals\n",
    "import logging\n",
    "\n",
    "class Bayes(object):\n",
    "    \"\"\"A bayes class, mainly a dictionary\"\"\"\n",
    "    def __init__(self, hypos=None, name=''):\n",
    "        \"\"\"\n",
    "        Initialize the distribution.\n",
    "        \n",
    "        hypos: sequence of hypotheses\n",
    "        \"\"\"\n",
    "        self.name = name\n",
    "        self.pmf = {}\n",
    "        if hypos is None:\n",
    "            return\n",
    "        \n",
    "        self.hypos = hypos\n",
    "        # Initiate the class object\n",
    "        # Three initalize methods are used to deal with different types of input\n",
    "        # \n",
    "        init_methods = [\n",
    "            self.InitPmf,\n",
    "            self.InitMapping,  #A dict\n",
    "            self.InitSequence, #equal probability for all hypos\n",
    "            self.InitFailure,\n",
    "        ]\n",
    "        \n",
    "        for method in init_methods:\n",
    "            try:\n",
    "                method(hypos)\n",
    "                break\n",
    "            except AttributeError:\n",
    "                continue\n",
    "        \n",
    "        if len(self):\n",
    "            self.Normalize()\n",
    "    \n",
    "    def __str__(self):\n",
    "        '''\n",
    "        Stringlize self.pmf\n",
    "        '''\n",
    "        tmpL = [\"Probability table\"]\n",
    "        for hypo, prob in sorted(self.pmf.iteritems()):\n",
    "            tmpL.append('\\t'.join([str(hypo), str(prob)]))\n",
    "        return '\\n'.join(tmpL)\n",
    "    \n",
    "    def InitSequence(self, hypos):\n",
    "        \"\"\"\n",
    "        Initialize with a sequence of hypos with equal probabilities.\n",
    "        \n",
    "        hypos: ['H1','H2','H3',...]\n",
    "        \"\"\"\n",
    "        for hypo in hypos:\n",
    "            self.Set(hypo, 1)\n",
    "    \n",
    "    def InitMapping(self, hypos):\n",
    "        \"\"\"\n",
    "        Initialize with a map from value to probablity (a dict).\n",
    "        \n",
    "        hypos = {'H1':1, 'H2':5, 'H3':4}\n",
    "        \"\"\"\n",
    "        for hypo, prob in hypos.iteritems():\n",
    "            self.Set(hypo, prob)\n",
    "    \n",
    "    def InitPmf(self, hypos):\n",
    "        \"\"\"\n",
    "        Initialize with a Bayes object.\n",
    "        \n",
    "        hypos = Bayes()\n",
    "        \"\"\"\n",
    "        for hypo, prob in hypos.iteritems():\n",
    "            self.Set(hypo, prob)\n",
    "    \n",
    "    def InitFailure(self, hypos):\n",
    "        \"\"\"Raise an errot\"\"\"\n",
    "        raise ValueError(\"None of the initialization methods works.\")\n",
    "    \n",
    "    def __len__(self):\n",
    "        return len(self.pmf)\n",
    "    \n",
    "    def Set(self, hypo, prob=0):\n",
    "        \"\"\"\n",
    "        Set hypo-prob pair\n",
    "        \"\"\"\n",
    "        self.pmf[hypo] = prob\n",
    "    \n",
    "    def Print(self):\n",
    "        \"\"\"Print the values and freqs in asending order.\"\"\"\n",
    "        for hypo, prob in sorted(self.pmf.iteritems()):\n",
    "            print hypo, prob\n",
    "    \n",
    "    def Normalize(self):\n",
    "        \"\"\"\n",
    "        Normalize probability\n",
    "        \"\"\"\n",
    "        total = float(sum(self.pmf.values()))\n",
    "        if total == 0.0:\n",
    "            raise ValueError('total probability is zero.')\n",
    "            logging.warning('Normalize: total probability is zero.')\n",
    "            return total\n",
    "        \n",
    "        factor = 1 / total\n",
    "        \n",
    "        for hypo in self.pmf:\n",
    "            self.pmf[hypo] *= factor\n",
    "    \n",
    "    def Items(self):\n",
    "        '''Return two lists, hypos_list and probability_list'''\n",
    "        if isinstance(self.hypos, list):\n",
    "            hypos = self.hypos\n",
    "        else:\n",
    "            hypos = self.pmf.keys()\n",
    "            hypos.sort()\n",
    "        probs = [self.pmf[hypo] for hypo in hypos]\n",
    "        return hypos, probs\n",
    "    \n",
    "    def Mult(self, hypo, likelihood):\n",
    "        '''\n",
    "        Update given hypo probability by given likelihood\n",
    "        '''\n",
    "        self.pmf[hypo] = self.pmf.get(hypo,0) * likelihood\n",
    "    \n",
    "    def Prob(self, hypo, default=0):\n",
    "        \"\"\"\n",
    "        Get the probability of given hypo.\n",
    "        \"\"\"\n",
    "        return self.pmf.get(hypo, default)\n",
    "    \n",
    "    def Update(self,dataL):\n",
    "        '''\n",
    "        Update all hypo probability by given obervation.\n",
    "        \n",
    "        dataL: A list of observations.\n",
    "        '''\n",
    "        for data in dataL:\n",
    "            for hypo, prob in self.pmf.iteritems():\n",
    "                self.pmf[hypo] = prob * self.Likelihood(hypo, data)\n",
    "        self.Normalize()\n",
    "    \n",
    "    def Likelihood(self, hypo, data):\n",
    "        '''\n",
    "        Re-constructed in child class\n",
    "        '''\n",
    "        psss\n",
    "    \n",
    "    def Mean(self):\n",
    "        '''\n",
    "        Compute the weighted hypothesis using posterior probabilities.\n",
    "        '''\n",
    "        total = 0\n",
    "        for hypo, prob in self.pmf.iteritems():\n",
    "            total += hypo * prob\n",
    "        return total\n",
    "    \n",
    "    def Percentile(self, percentage):\n",
    "        '''\n",
    "        Compute a percentile for a given percentage.\n",
    "        \n",
    "        percentage: float from 0 to 100.\n",
    "        ''' \n",
    "        if isinstance(self.hypos, list):\n",
    "            hypos = self.hypos\n",
    "        else:\n",
    "            hypos = self.pmf.keys()\n",
    "            hypos.sort()\n",
    "        total = 0\n",
    "        assert 0<=percentage<=100, \"percentage must between [0,100]\"\n",
    "        percentile_value = percentage / 100.0\n",
    "        for hypo in hypos:\n",
    "            total += self.pmf[hypo]\n",
    "            if total >= percentile_value:\n",
    "                return hypo"
   ]
  },
  {
   "cell_type": "code",
   "execution_count": 62,
   "metadata": {
    "collapsed": false
   },
   "outputs": [
    {
     "name": "stdout",
     "output_type": "stream",
     "text": [
      "The 90% credible interval for <500> is [91,235]\n",
      "The 90% credible interval for <1000> is [91,242]\n",
      "The 90% credible interval for <2000> is [91,243]\n"
     ]
    }
   ],
   "source": [
    "class Locomotive(Bayes):\n",
    "    '''\n",
    "    Dice class\n",
    "    '''\n",
    "\n",
    "    def Likelihood(self, hypo, data):\n",
    "        if hypo < data:\n",
    "            return 0\n",
    "        else:\n",
    "            return 1/hypo\n",
    "#--------END class DIce--------------\n",
    "    \n",
    "def credible_interval(N, dataL):\n",
    "    hypos = [i for i in range(1,N)]    \n",
    "    hypos_prob = [1/i for i in hypos]    \n",
    "    hyposD = dict(zip(hypos,hypos_prob))\n",
    "    \n",
    "    locomotive = Locomotive(hyposD)\n",
    "\n",
    "    locomotive.Update(dataL)\n",
    "    return locomotive.Percentile(5), locomotive.Percentile(95)\n",
    "\n",
    "#N = range(100,10001,50)\n",
    "N = [500,1000,2000]\n",
    "\n",
    "dataL = [30,60,90]\n",
    "credible_intervalL = []\n",
    "\n",
    "for i in N:\n",
    "    lower_5,upper_95 = credible_interval(i, dataL)\n",
    "    print \"The 90%% credible interval for <%d> is [%d,%d]\" % (i,lower_5,upper_95)\n"
   ]
  },
  {
   "cell_type": "markdown",
   "metadata": {},
   "source": [
    "### 4 累计分布函数\n",
    "\n",
    "这部分暂时还没用到，故跳过，如果用的多了，再开始写作CDF (Cumulative distribution function)."
   ]
  },
  {
   "cell_type": "markdown",
   "metadata": {},
   "source": [
    "### 5 关于先验概率"
   ]
  },
  {
   "cell_type": "markdown",
   "metadata": {},
   "source": [
    "在贝叶斯使用者中关于先验概率的选取有两种途径：\n",
    "    * 多信息的先验概率： 选择的先验概率依赖于收集到的背景信息，并能最好地反应背景信息。问题是，不同的人使用的背景信息不同，因此这一方法看上去会显得主观。\n",
    "    * 无信息的先验概率：利用尽量少的背景信息，主要依赖观察数据来计算后验概率。\n",
    "\n",
    "但通常建议是依赖于最多的背景信息来确定先验概率。因为贝叶斯分析本质上就是基于模型的选择。选择合适的先验概率就是我们在解决问题过程中必须要做的一个决定，但这并不是这一过程中唯一要做的决定，也不会是最主观的决定。因此即使先验概率是客观的，整个分析过程也是主观的。\n",
    "\n",
    "实际应用中，如果我们有足够多的观察数据，如何选择先验概率对结果的影响不大。但如果我们没有足够多的数据，在确定先验概率时有没有使用背景知识得到的结果差别很大，就如对`locomotive problem`的分析所示。"
   ]
  },
  {
   "cell_type": "markdown",
   "metadata": {},
   "source": [
    "### 6 练习"
   ]
  },
  {
   "cell_type": "markdown",
   "metadata": {},
   "source": [
    "对于`locomotive problem`，如果要确定似然函数，我们需要判断，“给定一个铁路公司有N辆火者，我们看到编号为60的火车的概率是多大”。\n",
    "\n",
    "答案依赖于我们使用的采样方式。在前面的问题解决过程中，我们做出假设“只关注这一家铁路公司的火车编号”。\n",
    "\n",
    "但如果有很多家铁路公司，各自有着不同数目的火车。假设我们看到任意公司的任意火车的概率相同。这是似然函数会发生变化，我们更容易看到较大的公司的火车。这时我们应该怎么计算呢？"
   ]
  },
  {
   "cell_type": "markdown",
   "metadata": {},
   "source": [
    "#### 6.1 假设城市内火车数目恒定"
   ]
  },
  {
   "cell_type": "code",
   "execution_count": 65,
   "metadata": {
    "collapsed": false
   },
   "outputs": [
    {
     "data": {
      "text/plain": [
       "<matplotlib.text.Text at 0x8c093c8>"
      ]
     },
     "execution_count": 65,
     "metadata": {},
     "output_type": "execute_result"
    },
    {
     "data": {
      "image/png": "[encoded data removed]",
      "text/plain": [
       "<matplotlib.figure.Figure at 0x7ad0b00>"
      ]
     },
     "metadata": {},
     "output_type": "display_data"
    }
   ],
   "source": [
    "class Locomotive(Bayes):\n",
    "    '''\n",
    "    Dice class\n",
    "    '''\n",
    "    total_number_trains = 10000\n",
    "    def Likelihood(self, hypo, data):\n",
    "        if hypo < data:\n",
    "            return 0\n",
    "        else:\n",
    "            return 1/self.total_number_trains\n",
    "#--------END class DIce--------------\n",
    "    \n",
    "def testE(N, dataL):\n",
    "    hypos = [i for i in range(1,N)]    \n",
    "    hypos_prob = [1/i for i in hypos]    \n",
    "    hyposD = dict(zip(hypos,hypos_prob))\n",
    "    \n",
    "    locomotive = Locomotive(hyposD)\n",
    "\n",
    "    locomotive.Update(dataL)\n",
    "    return locomotive.Mean()\n",
    "\n",
    "N = range(100,10001,50)\n",
    "#N = [500,1000,2000]\n",
    "\n",
    "dataL = [30,60,90]\n",
    "expectN = []\n",
    "\n",
    "for i in N:\n",
    "    expectN.append(testE(i, dataL))\n",
    "\n",
    "plt.plot(N, expectN)\n",
    "#print zip(N, expectN)\n",
    "plt.xlabel('Maximum number of locomotives')\n",
    "plt.ylabel('Expected locomotive number')"
   ]
  },
  {
   "cell_type": "markdown",
   "metadata": {},
   "source": [
    "#### 6.2 StackOverflow上有另外一个解决方式，针对的问题是看到数字为60的火车，而不是看到数字为60的该铁路公司的火车。"
   ]
  },
  {
   "cell_type": "markdown",
   "metadata": {},
   "source": [
    "http://stats.stackexchange.com/questions/70096/locomotive-problem-with-various-size-companies"
   ]
  },
  {
   "cell_type": "markdown",
   "metadata": {},
   "source": [
    "### zip的一个用法"
   ]
  },
  {
   "cell_type": "code",
   "execution_count": 22,
   "metadata": {
    "collapsed": false
   },
   "outputs": [
    {
     "name": "stdout",
     "output_type": "stream",
     "text": [
      "[(1, 2, 3), (u'a', u'b', u'c')]\n"
     ]
    }
   ],
   "source": [
    "a = {1:'a',2:'b',3:'c'}\n",
    "#a = [1,2,3]\n",
    "#b = ['a','b','c']\n",
    "#c = zip(a, b)\n",
    "#print c\n",
    "print zip(*a.items())"
   ]
  },
  {
   "cell_type": "code",
   "execution_count": 56,
   "metadata": {
    "collapsed": false
   },
   "outputs": [
    {
     "name": "stdout",
     "output_type": "stream",
     "text": [
      "[(3, u'c'), (2, u'b'), (11, u'a')]\n",
      "[(2, u'b'), (3, u'c'), (11, u'a')]\n"
     ]
    }
   ],
   "source": [
    "a = {11:'a',2:'b',3:'c'}\n",
    "print a.items()\n",
    "print sorted(a.items())"
   ]
  },
  {
   "cell_type": "code",
   "execution_count": null,
   "metadata": {
    "collapsed": true
   },
   "outputs": [],
   "source": []
  }
 ],
 "metadata": {
  "kernelspec": {
   "display_name": "Python 2",
   "language": "python",
   "name": "python2"
  },
  "language_info": {
   "codemirror_mode": {
    "name": "ipython",
    "version": 2
   },
   "file_extension": ".py",
   "mimetype": "text/x-python",
   "name": "python",
   "nbconvert_exporter": "python",
   "pygments_lexer": "ipython2",
   "version": "2.7.11"
  }
 },
 "nbformat": 4,
 "nbformat_minor": 0
}
