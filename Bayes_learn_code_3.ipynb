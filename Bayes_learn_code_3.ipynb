{
 "cells": [
  {
   "cell_type": "markdown",
   "metadata": {},
   "source": [
    "## Bayes learn (chapter 4)"
   ]
  },
  {
   "cell_type": "code",
   "execution_count": 2,
   "metadata": {
    "collapsed": true
   },
   "outputs": [],
   "source": [
    "%matplotlib inline\n",
    "\n",
    "import matplotlib\n",
    "import numpy as np\n",
    "import matplotlib.pyplot as plt\n",
    "\n",
    "def lineplot(x, y):\n",
    "    plt.plot(x,y)\n",
    "    plt.xlabel('Hypotheses')\n",
    "    plt.ylabel('Probabilities')"
   ]
  },
  {
   "cell_type": "code",
   "execution_count": 10,
   "metadata": {
    "collapsed": true
   },
   "outputs": [],
   "source": [
    "from __future__ import division, unicode_literals\n",
    "import logging\n",
    "\n",
    "class Bayes(object):\n",
    "    \"\"\"A bayes class, mainly a dictionary\"\"\"\n",
    "    def __init__(self, hypos=None, name=''):\n",
    "        \"\"\"\n",
    "        Initialize the distribution.\n",
    "        \n",
    "        hypos: sequence of hypotheses\n",
    "        \"\"\"\n",
    "        self.name = name\n",
    "        self.pmf = {}\n",
    "        if hypos is None:\n",
    "            return\n",
    "        \n",
    "        self.hypos = hypos\n",
    "        # Initiate the class object\n",
    "        # Three initalize methods are used to deal with different types of input\n",
    "        # \n",
    "        init_methods = [\n",
    "            self.InitPmf,\n",
    "            self.InitMapping,  #A dict\n",
    "            self.InitSequence, #equal probability for all hypos\n",
    "            self.InitFailure,\n",
    "        ]\n",
    "        \n",
    "        for method in init_methods:\n",
    "            try:\n",
    "                method(hypos)\n",
    "                break\n",
    "            except AttributeError:\n",
    "                continue\n",
    "        \n",
    "        if len(self):\n",
    "            self.Normalize()\n",
    "    \n",
    "    def __str__(self):\n",
    "        '''\n",
    "        Stringlize self.pmf\n",
    "        '''\n",
    "        tmpL = [\"Probability table\"]\n",
    "        for hypo, prob in sorted(self.pmf.iteritems()):\n",
    "            tmpL.append('\\t'.join([str(hypo), str(prob)]))\n",
    "        return '\\n'.join(tmpL)\n",
    "    \n",
    "    def InitSequence(self, hypos):\n",
    "        \"\"\"\n",
    "        Initialize with a sequence of hypos with equal probabilities.\n",
    "        \n",
    "        hypos: ['H1','H2','H3',...]\n",
    "        \"\"\"\n",
    "        for hypo in hypos:\n",
    "            self.Set(hypo, 1)\n",
    "    \n",
    "    def InitMapping(self, hypos):\n",
    "        \"\"\"\n",
    "        Initialize with a map from value to probablity (a dict).\n",
    "        \n",
    "        hypos = {'H1':1, 'H2':5, 'H3':4}\n",
    "        \"\"\"\n",
    "        for hypo, prob in hypos.iteritems():\n",
    "            self.Set(hypo, prob)\n",
    "    \n",
    "    def InitPmf(self, hypos):\n",
    "        \"\"\"\n",
    "        Initialize with a Bayes object.\n",
    "        \n",
    "        hypos = Bayes()\n",
    "        \"\"\"\n",
    "        for hypo, prob in hypos.iteritems():\n",
    "            self.Set(hypo, prob)\n",
    "    \n",
    "    def InitFailure(self, hypos):\n",
    "        \"\"\"Raise an errot\"\"\"\n",
    "        raise ValueError(\"None of the initialization methods works.\")\n",
    "    \n",
    "    def __len__(self):\n",
    "        return len(self.pmf)\n",
    "    \n",
    "    def Set(self, hypo, prob=0):\n",
    "        \"\"\"\n",
    "        Set hypo-prob pair\n",
    "        \"\"\"\n",
    "        self.pmf[hypo] = prob\n",
    "    \n",
    "    def Print(self):\n",
    "        \"\"\"Print the values and freqs in asending order.\"\"\"\n",
    "        for hypo, prob in sorted(self.pmf.iteritems()):\n",
    "            print hypo, prob\n",
    "    \n",
    "    def Normalize(self):\n",
    "        \"\"\"\n",
    "        Normalize probability\n",
    "        \"\"\"\n",
    "        total = float(sum(self.pmf.values()))\n",
    "        if total == 0.0:\n",
    "            raise ValueError('total probability is zero.')\n",
    "            logging.warning('Normalize: total probability is zero.')\n",
    "            return total\n",
    "        \n",
    "        factor = 1 / total\n",
    "        \n",
    "        for hypo in self.pmf:\n",
    "            self.pmf[hypo] *= factor\n",
    "    \n",
    "    def Items(self):\n",
    "        '''Return two lists, hypos_list and probability_list'''\n",
    "        if isinstance(self.hypos, list):\n",
    "            hypos = self.hypos\n",
    "        else:\n",
    "            hypos = self.pmf.keys()\n",
    "            hypos.sort()\n",
    "        probs = [self.pmf[hypo] for hypo in hypos]\n",
    "        return hypos, probs\n",
    "    \n",
    "    def Max(self):\n",
    "        '''Return the hypothesis with maximum posterior probability'''\n",
    "        max_prob, max_hypo = max([(prob,hypo) for hypo, prob in self.pmf.iteritems()])\n",
    "        return max_hypo, max_prob\n",
    "    \n",
    "    def Mult(self, hypo, likelihood):\n",
    "        '''\n",
    "        Update given hypo probability by given likelihood\n",
    "        '''\n",
    "        self.pmf[hypo] = self.pmf.get(hypo,0) * likelihood\n",
    "    \n",
    "    def Prob(self, hypo, default=0):\n",
    "        \"\"\"\n",
    "        Get the probability of given hypo.\n",
    "        \"\"\"\n",
    "        return self.pmf.get(hypo, default)\n",
    "    \n",
    "    def Update(self,dataL):\n",
    "        '''\n",
    "        Update all hypo probability by given obervation.\n",
    "        \n",
    "        dataL: A list of observations.\n",
    "        '''\n",
    "        for data in dataL:\n",
    "            for hypo, prob in self.pmf.iteritems():\n",
    "                self.pmf[hypo] = prob * self.Likelihood(hypo, data)\n",
    "        self.Normalize()\n",
    "    \n",
    "    def Likelihood(self, hypo, data):\n",
    "        '''\n",
    "        Re-constructed in child class\n",
    "        '''\n",
    "        psss\n",
    "    \n",
    "    def Mean(self):\n",
    "        '''\n",
    "        Compute the weighted hypothesis using posterior probabilities.\n",
    "        '''\n",
    "        total = 0\n",
    "        for hypo, prob in self.pmf.iteritems():\n",
    "            total += hypo * prob\n",
    "        return total\n",
    "    \n",
    "    def Percentile(self, percentage):\n",
    "        '''\n",
    "        Compute a percentile for a given percentage.\n",
    "        \n",
    "        percentage: float from 0 to 100.\n",
    "        ''' \n",
    "        if isinstance(self.hypos, list):\n",
    "            hypos = self.hypos\n",
    "        else:\n",
    "            hypos = self.pmf.keys()\n",
    "            hypos.sort()\n",
    "        total = 0\n",
    "        assert 0<=percentage<=100, \"percentage must between [0,100]\"\n",
    "        percentile_value = percentage / 100.0\n",
    "        for hypo in hypos:\n",
    "            total += self.pmf[hypo]\n",
    "            if total >= percentile_value:\n",
    "                return hypo"
   ]
  },
  {
   "cell_type": "markdown",
   "metadata": {},
   "source": [
    "### 4.1 欧元问题"
   ]
  },
  {
   "cell_type": "markdown",
   "metadata": {},
   "source": [
    "When spun on edge 250 times, a Belgian one-euro coin\n",
    "came up heads 140 times and tails 110. ‘It looks very\n",
    "suspicious to me,’ said Barry Blight, a statistics lecturer\n",
    "at the London School of Economics. ‘If the coin were\n",
    "unbiased, the chance of getting a result as extreme as\n",
    "that would be less than 7%.’\n",
    "\n",
    "But do these data give evidence that the coin is biased rather\n",
    "than fair?\n",
    "\n"
   ]
  },
  {
   "cell_type": "markdown",
   "metadata": {},
   "source": [
    "一枚欧元硬币抛掷250次之后，发现有140次看到正面，110次看到背面。伦敦经济学院的统计学老师Barry Blight说“这枚欧元硬币看起来很可疑。如果它是均匀的，抛掷相同次数得到这个结果的概率为7%。”请问这些数据能否说明硬币是均匀的？"
   ]
  },
  {
   "cell_type": "markdown",
   "metadata": {},
   "source": [
    "* 观察到的数据 D: 140次正面，100次负面\n",
    "* 假设\n",
    "    * H1：硬币是均匀的\n",
    "    * H2：硬币是不均一的"
   ]
  },
  {
   "cell_type": "markdown",
   "metadata": {},
   "source": [
    "* $P(H1|D) = \\frac{P(H1) * P(D|H1)}{P(D)} = P(H1) * {250 \\choose 140}\\Bigl(\\frac{1}{2}\\Bigl)^{140} * \\Bigl(\\frac{1}{2}\\Bigl)^{100}$"
   ]
  },
  {
   "cell_type": "markdown",
   "metadata": {},
   "source": [
    "* $P(H2|D) = \\frac{P(H2) * P(D|H2)}{P(D)} = P(H2) * {250 \\choose 140}\\Bigl(P(正面)\\Bigl)^{140} * \\Bigl(P(反面)\\Bigl)^{100}$"
   ]
  },
  {
   "cell_type": "markdown",
   "metadata": {},
   "source": [
    "问题是，\n",
    "    * P(H1)未知；\n",
    "    * 给定H2后，P(正面)的概率不确定"
   ]
  },
  {
   "cell_type": "markdown",
   "metadata": {},
   "source": [
    "为了解决这个问题，我们需要换一种思路。我们把假设做的更明确些，即我们假设硬币抛掷一次正面出现的概率为0到100，共101个假设。并且假定每个假设出现的频率是相等的。在此基础上，我们计算各个假设的后验概率。"
   ]
  },
  {
   "cell_type": "code",
   "execution_count": 19,
   "metadata": {
    "collapsed": false
   },
   "outputs": [
    {
     "data": {
      "text/plain": [
       "<matplotlib.text.Annotation at 0x8a6f978>"
      ]
     },
     "execution_count": 19,
     "metadata": {},
     "output_type": "execute_result"
    },
    {
     "data": {
      "image/png": "[encoded data removed]",
      "text/plain": [
       "<matplotlib.figure.Figure at 0x885ab38>"
      ]
     },
     "metadata": {},
     "output_type": "display_data"
    }
   ],
   "source": [
    "class Coins(Bayes):\n",
    "    def Likelihood(self, hypo, data):\n",
    "        \n",
    "        if data == 'H':\n",
    "            return hypo / 100.0\n",
    "        else:\n",
    "            return 1-hypo/100.0\n",
    "\n",
    "hypos = [i for i in range(0,101)]\n",
    "\n",
    "coins = Coins(hypos)\n",
    "\n",
    "# 对于观察数据的处理，我们把它分解成250次观察。\n",
    "# 得到250次观察结果，其中140个H和110个T\n",
    "dataset = 'H' * 140 + 'T' * 110\n",
    "\n",
    "# 对于不同的假设，出现H和T的组合数目时一致的。\n",
    "\n",
    "coins.Update(dataset)\n",
    "\n",
    "#print coins\n",
    "hypo, prob = coins.Items()\n",
    "max_hypo, max_prob = coins.Max() \n",
    "plt.plot(hypo, prob)\n",
    "plt.xlabel('Hypothses')\n",
    "plt.ylabel('Probabilities')\n",
    "plt.axvline(max_hypo, color='r')\n",
    "plt.annotate(xy=(max_hypo, 0.13),s=\"Maximum hypo \"+str(max_hypo))\n",
    "weighted_mean_hypo = coins.Mean()\n",
    "plt.axvline(weighted_mean_hypo,color='g',alpha=0.6)\n",
    "plt.annotate(xy=(weighted_mean_hypo,0.08),s=\"Weighted mean hypo \"+str(weighted_mean_hypo))\n",
    "\n",
    "lower_5 = coins.Percentile(5)\n",
    "upper_95 = coins.Percentile(95)\n",
    "plt.axvline(lower_5,color='b',ls=\"dashed\")\n",
    "plt.axvline(upper_95,color='b',ls=\"dashed\")\n",
    "plt.annotate(xy=(lower_5,0.02),s=\"[\"+str(lower_5)+','+str(upper_95)+']')"
   ]
  },
  {
   "cell_type": "markdown",
   "metadata": {},
   "source": [
    "从上面的计算可以看出，概率值最大的假设是56。这与观察到的正面出现的概率`140/250=56%`一致。因此观察到的比例是最大的似然值估计。其90%的置信区间为`[51,61]`。而`50%`正好不在这个置信区间内，表明这个硬币是不均匀的。"
   ]
  },
  {
   "cell_type": "markdown",
   "metadata": {},
   "source": [
    "在开始时，我们提出的问题是“这些数据是否可以支持硬币是不均匀的”。那么怎么才能说明一份证据是否支持一个假设呢？"
   ]
  },
  {
   "cell_type": "markdown",
   "metadata": {},
   "source": [
    "这儿可能有一个困惑，既然我们想知道硬币是不是均匀的，那么我们为什么不计算硬币是均匀的概率即`coins.Prob(50)`的数值? 这个值时0.021，但这个值却没有任何意义。因为这是在我们做出的101个假设的基础上得到的，而实际上硬币的不均匀程度是连续分布的，可以做出的假设数目会很多，这时每部分的概率也会相应变化。"
   ]
  },
  {
   "cell_type": "markdown",
   "metadata": {},
   "source": [
    "### 4.3 欧元问题（不同的先验概率）"
   ]
  },
  {
   "cell_type": "markdown",
   "metadata": {},
   "source": [
    "前面我们对提出的101个假设分配了相同的概率，但这可能并不妥当。如果一个硬币是不均匀的，那么随着这个不均匀率离50%越远，则发生的概率越低。"
   ]
  },
  {
   "cell_type": "code",
   "execution_count": 21,
   "metadata": {
    "collapsed": false,
    "scrolled": true
   },
   "outputs": [
    {
     "data": {
      "text/plain": [
       "<matplotlib.text.Annotation at 0x8cc41d0>"
      ]
     },
     "execution_count": 21,
     "metadata": {},
     "output_type": "execute_result"
    },
    {
     "data": {
      "image/png": "[encoded data removed]",
      "text/plain": [
       "<matplotlib.figure.Figure at 0x879a358>"
      ]
     },
     "metadata": {},
     "output_type": "display_data"
    }
   ],
   "source": [
    "class Coins(Bayes):\n",
    "    def Likelihood(self, hypo, data):\n",
    "        \n",
    "        if data == 'H':\n",
    "            return hypo / 100.0\n",
    "        else:\n",
    "            return 1-hypo/100.0\n",
    "\n",
    "#hyposD = [i for i in range(0,101)]\n",
    "\n",
    "hyposL = []\n",
    "\n",
    "for i in range(0,101):\n",
    "    if i < 51:\n",
    "        hyposL.append((i,i))\n",
    "    else:\n",
    "        hyposL.append((i,100-i))\n",
    "\n",
    "hyposD = dict(hyposL)\n",
    "\n",
    "coins = Coins(hyposD)\n",
    "\n",
    "# 对于观察数据的处理，我们把它分解成250次观察。\n",
    "# 得到250次观察结果，其中140个H和110个T\n",
    "dataset = 'H' * 140 + 'T' * 110\n",
    "\n",
    "# 对于不同的假设，出现H和T的组合数目时一致的。\n",
    "\n",
    "coins.Update(dataset)\n",
    "\n",
    "#print coins\n",
    "hypo, prob = coins.Items()\n",
    "max_hypo, max_prob = coins.Max() \n",
    "plt.plot(hypo, prob)\n",
    "plt.xlabel('Hypothses')\n",
    "plt.ylabel('Probabilities')\n",
    "plt.axvline(max_hypo, color='r')\n",
    "plt.annotate(xy=(max_hypo, 0.13),s=\"Maximum hypo \"+str(max_hypo))\n",
    "weighted_mean_hypo = coins.Mean()\n",
    "plt.axvline(weighted_mean_hypo,color='g',alpha=0.6)\n",
    "plt.annotate(xy=(weighted_mean_hypo,0.08),s=\"Weighted mean hypo \"+str(weighted_mean_hypo))\n",
    "\n",
    "lower_5 = coins.Percentile(5)\n",
    "upper_95 = coins.Percentile(95)\n",
    "plt.axvline(lower_5,color='b',ls=\"dashed\")\n",
    "plt.axvline(upper_95,color='b',ls=\"dashed\")\n",
    "plt.annotate(xy=(lower_5,0.02),s=\"[\"+str(lower_5)+','+str(upper_95)+']')"
   ]
  },
  {
   "cell_type": "markdown",
   "metadata": {},
   "source": [
    "结果几乎完全相同，即在足够多的观察数据下，不同的先验概率最后都会收敛到相同的后验概率分布。在下面的图中我们会看的更清楚。"
   ]
  },
  {
   "cell_type": "code",
   "execution_count": 28,
   "metadata": {
    "collapsed": false
   },
   "outputs": [
    {
     "data": {
      "text/plain": [
       "<matplotlib.legend.Legend at 0x97e4ba8>"
      ]
     },
     "execution_count": 28,
     "metadata": {},
     "output_type": "execute_result"
    },
    {
     "data": {
      "image/png": "[encoded data removed]",
      "text/plain": [
       "<matplotlib.figure.Figure at 0x9474400>"
      ]
     },
     "metadata": {},
     "output_type": "display_data"
    }
   ],
   "source": [
    "class Coins(Bayes):\n",
    "    def Likelihood(self, hypo, data):\n",
    "        \n",
    "        if data == 'H':\n",
    "            return hypo / 100.0\n",
    "        else:\n",
    "            return 1-hypo/100.0\n",
    "\n",
    "\n",
    "        \n",
    "uniform_prior_hypos = [i for i in range(0,101)]\n",
    "\n",
    "hyposL = []\n",
    "\n",
    "for i in range(0,101):\n",
    "    if i < 51:\n",
    "        hyposL.append((i,i))\n",
    "    else:\n",
    "        hyposL.append((i,100-i))\n",
    "\n",
    "triangular_prior_hypos = dict(hyposL)\n",
    "\n",
    "def getHyposProbs(prior_distribute):\n",
    "    coins = Coins(prior_distribute)\n",
    "\n",
    "    # 对于观察数据的处理，我们把它分解成250次观察。\n",
    "    # 得到250次观察结果，其中140个H和110个T\n",
    "    dataset = 'H' * 140 + 'T' * 110\n",
    "\n",
    "    # 对于不同的假设，出现H和T的组合数目时一致的。\n",
    "\n",
    "    coins.Update(dataset)\n",
    "\n",
    "    #print coins\n",
    "    hypo, prob = coins.Items()\n",
    "    return hypo,prob\n",
    "\n",
    "uniform_hypo, uniform_post = getHyposProbs(uniform_prior_hypos)\n",
    "triangu_hypo, triangu_post = getHyposProbs(triangular_prior_hypos)\n",
    "\n",
    "plt.plot(uniform_hypo, uniform_post, 'rs',label=\"Uniform probability\")\n",
    "plt.plot(triangu_hypo, triangu_post, 'go-',label=\"Triangular probability\",alpha=0.5)\n",
    "plt.xlabel('Hypothses')\n",
    "plt.ylabel('Probabilities')\n",
    "plt.axis([0, 100, 0, 0.2])\n",
    "plt.legend()"
   ]
  },
  {
   "cell_type": "markdown",
   "metadata": {},
   "source": [
    "### 4.4 数据集表示和似然函数优化"
   ]
  },
  {
   "cell_type": "markdown",
   "metadata": {},
   "source": [
    "换一种方式来定义我们观察到的数据集和似然函数。这种计算方式类似于我们最先提出的那两个公式，可以大大提高计算效率。"
   ]
  },
  {
   "cell_type": "code",
   "execution_count": 29,
   "metadata": {
    "collapsed": false
   },
   "outputs": [
    {
     "data": {
      "text/plain": [
       "<matplotlib.text.Annotation at 0x9a360b8>"
      ]
     },
     "execution_count": 29,
     "metadata": {},
     "output_type": "execute_result"
    },
    {
     "data": {
      "image/png": "[encoded data removed]",
      "text/plain": [
       "<matplotlib.figure.Figure at 0x9584dd8>"
      ]
     },
     "metadata": {},
     "output_type": "display_data"
    }
   ],
   "source": [
    "class Coins(Bayes):\n",
    "    def Likelihood(self, hypo, data):\n",
    "        heads, tails = data\n",
    "        return (hypo/100.0)**heads * (1-hypo/100.0)**tails\n",
    "        \n",
    "\n",
    "#hyposD = [i for i in range(0,101)]\n",
    "\n",
    "hyposL = []\n",
    "\n",
    "for i in range(0,101):\n",
    "    if i < 51:\n",
    "        hyposL.append((i,i))\n",
    "    else:\n",
    "        hyposL.append((i,100-i))\n",
    "\n",
    "hyposD = dict(hyposL)\n",
    "\n",
    "coins = Coins(hyposD)\n",
    "\n",
    "# 对于观察数据的处理，我们把它分解成250次观察。\n",
    "# 得到250次观察结果，其中140个H和110个T\n",
    "# dataset = 'H' * 140 + 'T' * 110\n",
    "dataset = [(140,110)]\n",
    "\n",
    "# 对于不同的假设，出现H和T的组合数目时一致的。\n",
    "\n",
    "coins.Update(dataset)\n",
    "\n",
    "#print coins\n",
    "hypo, prob = coins.Items()\n",
    "max_hypo, max_prob = coins.Max() \n",
    "plt.plot(hypo, prob)\n",
    "plt.xlabel('Hypothses')\n",
    "plt.ylabel('Probabilities')\n",
    "plt.axvline(max_hypo, color='r')\n",
    "plt.annotate(xy=(max_hypo, 0.13),s=\"Maximum hypo \"+str(max_hypo))\n",
    "weighted_mean_hypo = coins.Mean()\n",
    "plt.axvline(weighted_mean_hypo,color='g',alpha=0.6)\n",
    "plt.annotate(xy=(weighted_mean_hypo,0.08),s=\"Weighted mean hypo \"+str(weighted_mean_hypo))\n",
    "\n",
    "lower_5 = coins.Percentile(5)\n",
    "upper_95 = coins.Percentile(95)\n",
    "plt.axvline(lower_5,color='b',ls=\"dashed\")\n",
    "plt.axvline(upper_95,color='b',ls=\"dashed\")\n",
    "plt.annotate(xy=(lower_5,0.02),s=\"[\"+str(lower_5)+','+str(upper_95)+']')"
   ]
  },
  {
   "cell_type": "markdown",
   "metadata": {},
   "source": [
    "### 4.5 β-分布"
   ]
  },
  {
   "cell_type": "markdown",
   "metadata": {},
   "source": [
    "In probability theory and statistics, the beta distribution is a family of continuous probability distributions defined on the interval [0, 1] parametrized by two positive shape parameters, denoted by α and β, that appear as exponents of the random variable and control the shape of the distribution.\n",
    "\n",
    "The beta distribution has been applied to model the behavior of random variables limited to intervals of finite length in a wide variety of disciplines. For example, it has been used as a statistical description of allele frequencies in population genetics;[1] time allocation in project management / control systems;[2] sunshine data;[3] variability of soil properties;[4] proportions of the minerals in rocks in stratigraphy;[5] and heterogeneity in the probability of HIV transmission.[6]\n",
    "\n",
    "In Bayesian inference, the beta distribution is the conjugate prior probability distribution for the Bernoulli, binomial, negative binomial and geometric distributions. For example, the beta distribution can be used in Bayesian analysis to describe initial knowledge concerning probability of success such as the probability that a space vehicle will successfully complete a specified mission. The beta distribution is a suitable model for the random behavior of percentages and proportions.\n",
    "\n",
    "The usual formulation of the beta distribution is also known as the beta distribution of the first kind, whereas beta distribution of the second kind is an alternative name for the beta prime distribution."
   ]
  },
  {
   "cell_type": "markdown",
   "metadata": {},
   "source": [
    "什么是β-分布？\n",
    "，\n",
    "在概率论和统计分析中，β分布是定义于区间[0,1]之上的连续概率分布，其分布模式由两个参数α和β控制，分别为随机变量的指数幂。\n",
    "\n",
    "β分布常用于模拟随机变量在有限长度区间的行为模式，如群体遗传学中等位基因的频率，任务控制系统中的时间分配，天气的预测，HIV传播概率的异质性。\n",
    "\n",
    "在贝叶斯推论中，β分布是伯努利分布、二项分布、负二项分布和几何分布的共轭先验概率分布。β分布可以用于在贝叶斯分析中描述成功率的起始分布，如果先验概率是β分布，那么后验概率也是β分布。\n",
    "\n",
    "β分布的形状依赖于两个参数，α和β。如果先验概率分布的参数是`alpha`和`beta`，我们观察到`h`次正面和`t`次反面，后验概率也符合β分布，其参数是`alpha+h`和`beta+t`。这样，我们就可以通过加和来更新似然值。\n",
    "\n",
    "幸运的是，对于很多现实的例子，β分布都可以用来作为先验概率的近似表示。对于均匀先验分布(`uniform prior`)来说，`aplha=1`和`beta=1`的β分布在`[0,1]`区间是均匀分布。\n",
    "\n",
    "\n"
   ]
  },
  {
   "cell_type": "code",
   "execution_count": 9,
   "metadata": {
    "collapsed": false
   },
   "outputs": [
    {
     "name": "stdout",
     "output_type": "stream",
     "text": [
      "(4, u'd')\n"
     ]
    }
   ],
   "source": [
    "print max([(1,'a'),(2,'b'),(4,'d'),(3,'c')])"
   ]
  },
  {
   "cell_type": "code",
   "execution_count": null,
   "metadata": {
    "collapsed": true
   },
   "outputs": [],
   "source": [
    "print [for i in range(5) if i<2]"
   ]
  },
  {
   "cell_type": "code",
   "execution_count": 27,
   "metadata": {
    "collapsed": false
   },
   "outputs": [
    {
     "name": "stdout",
     "output_type": "stream",
     "text": [
      "Help on function axis in module matplotlib.pyplot:\n",
      "\n",
      "axis(*v, **kwargs)\n",
      "    Convenience method to get or set axis properties.\n",
      "    \n",
      "    Calling with no arguments::\n",
      "    \n",
      "      >>> axis()\n",
      "    \n",
      "    returns the current axes limits ``[xmin, xmax, ymin, ymax]``.::\n",
      "    \n",
      "      >>> axis(v)\n",
      "    \n",
      "    sets the min and max of the x and y axes, with\n",
      "    ``v = [xmin, xmax, ymin, ymax]``.::\n",
      "    \n",
      "      >>> axis('off')\n",
      "    \n",
      "    turns off the axis lines and labels.::\n",
      "    \n",
      "      >>> axis('equal')\n",
      "    \n",
      "    changes limits of *x* or *y* axis so that equal increments of *x*\n",
      "    and *y* have the same length; a circle is circular.::\n",
      "    \n",
      "      >>> axis('scaled')\n",
      "    \n",
      "    achieves the same result by changing the dimensions of the plot box instead\n",
      "    of the axis data limits.::\n",
      "    \n",
      "      >>> axis('tight')\n",
      "    \n",
      "    changes *x* and *y* axis limits such that all data is shown. If\n",
      "    all data is already shown, it will move it to the center of the\n",
      "    figure without modifying (*xmax* - *xmin*) or (*ymax* -\n",
      "    *ymin*). Note this is slightly different than in MATLAB.::\n",
      "    \n",
      "      >>> axis('image')\n",
      "    \n",
      "    is 'scaled' with the axis limits equal to the data limits.::\n",
      "    \n",
      "      >>> axis('auto')\n",
      "    \n",
      "    and::\n",
      "    \n",
      "      >>> axis('normal')\n",
      "    \n",
      "    are deprecated. They restore default behavior; axis limits are automatically\n",
      "    scaled to make the data fit comfortably within the plot box.\n",
      "    \n",
      "    if ``len(*v)==0``, you can pass in *xmin*, *xmax*, *ymin*, *ymax*\n",
      "    as kwargs selectively to alter just those limits without changing\n",
      "    the others.\n",
      "    \n",
      "      >>> axis('square')\n",
      "    \n",
      "    changes the limit ranges (*xmax*-*xmin*) and (*ymax*-*ymin*) of\n",
      "    the *x* and *y* axes to be the same, and have the same scaling,\n",
      "    resulting in a square plot.\n",
      "    \n",
      "    The xmin, xmax, ymin, ymax tuple is returned\n",
      "    \n",
      "    .. seealso::\n",
      "    \n",
      "        :func:`xlim`, :func:`ylim`\n",
      "           For setting the x- and y-limits individually.\n",
      "\n"
     ]
    }
   ],
   "source": [
    "help(plt.axis)"
   ]
  },
  {
   "cell_type": "code",
   "execution_count": null,
   "metadata": {
    "collapsed": true
   },
   "outputs": [],
   "source": []
  }
 ],
 "metadata": {
  "kernelspec": {
   "display_name": "Python 2",
   "language": "python",
   "name": "python2"
  },
  "language_info": {
   "codemirror_mode": {
    "name": "ipython",
    "version": 2
   },
   "file_extension": ".py",
   "mimetype": "text/x-python",
   "name": "python",
   "nbconvert_exporter": "python",
   "pygments_lexer": "ipython2",
   "version": "2.7.11"
  }
 },
 "nbformat": 4,
 "nbformat_minor": 0
}
