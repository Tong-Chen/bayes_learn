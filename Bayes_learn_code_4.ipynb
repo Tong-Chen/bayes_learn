{
 "cells": [
  {
   "cell_type": "markdown",
   "metadata": {},
   "source": [
    "## Bayes learn (chapter 5)"
   ]
  },
  {
   "cell_type": "markdown",
   "metadata": {},
   "source": [
    "### 5.1 Odds ratio"
   ]
  },
  {
   "cell_type": "markdown",
   "metadata": {},
   "source": [
    "通常用来表示概率的是一个[0,1]之间的数字，但这并不是唯一一个方式。还有一个常用方式是`odds`，又称为优势比 (`odds in favor`)。一个事件的优势比是指它发生的概率与不发生的概率的比值。假如我认为一个球队在一场比赛中有75%的概率会赢，那么这支球队赢球的优势比就是`3:1`。\n",
    "\n",
    "当我们期望的概率比较低时，我们也会用劣势比(`odds against`)。比如我认为自己赌马失败的概率为10%，那么odds就是`9:1`。"
   ]
  },
  {
   "cell_type": "markdown",
   "metadata": {},
   "source": [
    "贝叶斯定理是： $p(H|D) = \\frac{p(H)p(D|H)}{p(D)}$"
   ]
  },
  {
   "cell_type": "markdown",
   "metadata": {},
   "source": [
    "假如有2个假设A和B，则它们的后验概率比值为：$\\frac{p(A|D)}{p(B|D)}=\\frac{p(A)p(D|A)}{p(B)p(D|B)}$"
   ]
  },
  {
   "cell_type": "markdown",
   "metadata": {},
   "source": [
    "我们用odds重写这个公式，令o(A)为支持A的优势比，则公式为$o(A|D)=o(A)\\frac{p(D|A)}{p(D|B)}$。o(A)为先验概率优势比p(A)/p(B)，o(A|D)为后验概率优势比。"
   ]
  },
  {
   "cell_type": "markdown",
   "metadata": {},
   "source": [
    "也就是说，后验优势比是先验优势比乘以似然值。这对于我们计算贝叶斯公式会有很大简化作用。"
   ]
  },
  {
   "cell_type": "markdown",
   "metadata": {},
   "source": [
    "*我们考虑之前的糖果问题：假如有两盒糖果。第一盒中有30个香草味和10个巧克力味；第二盒中香草味和巧克力味各有20个。现在我们随机选择了一个盒子，又从中选择了一个糖果，结果发现为巧克力味，那么这个糖果来源于盒1的概率是多少？*\n",
    "\n",
    "在这个问题中先验odds是1:1，似然值为$\\frac{3}{4}/\\frac{1}{2}$，也就是3/2，所以后验odds也是3:2，则糖果来源于罐1的概率就是3/5。"
   ]
  },
  {
   "cell_type": "markdown",
   "metadata": {},
   "source": [
    "*两个人在杀人现场留下血迹，一个为O型血（人群中出现概率为60%），一个为AB型血（人群中出现概率为1%）。其中一个嫌疑人测试为O型血，跟定这些证据的情况下判断是否其中一个血迹来源于这个嫌疑人？*\n",
    "\n",
    "为了回答这个问题，我们需要定义什么是观察到的数据支持假设，什么是观察到的数据不支持假设。直觉上，我们认为在观察到这个数据后假设发生的概率更大时数据就支持假设。\n",
    "\n",
    "在糖果问题中，先验优势比似1:1，后验优势比是3:2，所以我们说`香草味的糖果`这个证据支持`罐1`假设。\n",
    "\n",
    "Bayes's定理的优势比形式给这个直觉一个更准确的定义： $\\frac{o(A|D)}{o(A)} = \\frac{p(D|A)}{p(D|B)} $。\n",
    "\n",
    "等式左侧为为后验优势比与先验优势比的比值，等式右侧为似然值的比值，也称为贝叶斯因子 (Bayes factor)。如果贝叶斯因子值大于1，就说明数据更有可能支持A假设。此时后验优势比与先验优势比的比值也大于1，也就是说在数据存在的情况下，支持A的优势比升高了；如果贝叶斯因子小于1，则说明数据更可能支持B假设，支持A的优势比降低了。\n",
    "\n",
    "那么我们回到`Oliver的血`的问题。如果Oliver是在现场留下血迹的人中的一个，那么他留下的是O型血，另外一个人留下AB型血的概率是1%。\n",
    "\n",
    "如果现场中的血不来自于Oliver，就应该来自于随机的另外两个人，其中一个为O型血，一个为AB型血，或者反过来，因此概率为2 * 0.6 * 0.01 = 1.2%。\n",
    "\n",
    "似然值的比值为1/1.2，因此单单验血数据其实不支持Oliver为嫌疑人之一。\n",
    "\n",
    "这个例子有一些反直觉，就是说与假设一致的数据模式却不一定支持假设。"
   ]
  },
  {
   "cell_type": "markdown",
   "metadata": {},
   "source": [
    "这个问题其实是似然值的问题，判断这个证据对确定嫌疑人的贡献有多大。如果这个血迹来源于这个人，似然值为1 * 1%=1%，如果这个血迹不来源于这个人，则似然值为2 * 60% * 1% = 1.2%。"
   ]
  },
  {
   "cell_type": "markdown",
   "metadata": {},
   "source": [
    "### 5.4 Addends （加数）"
   ]
  },
  {
   "cell_type": "markdown",
   "metadata": {},
   "source": [
    "Bayesian统计学的基本操作是利用观察到的数据计算似然值更新先验概率得到后验概率分布。\n",
    "\n",
    "但是在解决实际问题时，还会引入其它的操作，包括倍数(scaling)、加和(addition)和其它数学操作，最大值、最小值和它们的混合运算。\n",
    "\n",
    "还是用“地下城和勇士”的例子，在这个角色扮演游戏中，玩家的决定通过掷骰子来决定。在游戏开始时，玩家通过抛掷3个六面的骰子对获得的数字加和得到它们扮演的角色的力量值、智力值、智慧值、敏捷度、组织能力和领导力。\n",
    "\n",
    "那么我们好奇这一数字加和的分布是什么？ 有两个方法可以计算：\n",
    "\n",
    "* 模拟：给定一个概率密度函数代表一个骰子的结果分布，然后随机采样，加和，计算模拟加和的累计分布\n",
    "* 穷举：给定2个概率密度函数，穷举所有可能的数值对，计算其总和的概率分布\n",
    "\n"
   ]
  },
  {
   "cell_type": "code",
   "execution_count": 1,
   "metadata": {
    "collapsed": true
   },
   "outputs": [],
   "source": [
    "%matplotlib inline\n",
    "\n",
    "import matplotlib\n",
    "import numpy as np\n",
    "import matplotlib.pyplot as plt\n",
    "\n",
    "def lineplot(x, y):\n",
    "    plt.plot(x,y)\n",
    "    plt.xlabel('Hypotheses')\n",
    "    plt.ylabel('Probabilities')"
   ]
  },
  {
   "cell_type": "code",
   "execution_count": 2,
   "metadata": {
    "collapsed": true
   },
   "outputs": [],
   "source": [
    "from __future__ import division, unicode_literals\n",
    "import logging\n",
    "\n",
    "class Bayes(object):\n",
    "    \"\"\"A bayes class, mainly a dictionary\"\"\"\n",
    "    def __init__(self, hypos=None, name=''):\n",
    "        \"\"\"\n",
    "        Initialize the distribution.\n",
    "        \n",
    "        hypos: sequence of hypotheses\n",
    "        \"\"\"\n",
    "        self.name = name\n",
    "        self.pmf = {}\n",
    "        if hypos is None:\n",
    "            return\n",
    "        \n",
    "        self.hypos = hypos\n",
    "        # Initiate the class object\n",
    "        # Three initalize methods are used to deal with different types of input\n",
    "        # \n",
    "        init_methods = [\n",
    "            self.InitPmf,\n",
    "            self.InitMapping,  #A dict\n",
    "            self.InitSequence, #equal probability for all hypos\n",
    "            self.InitFailure,\n",
    "        ]\n",
    "        \n",
    "        for method in init_methods:\n",
    "            try:\n",
    "                method(hypos)\n",
    "                break\n",
    "            except AttributeError:\n",
    "                continue\n",
    "        \n",
    "        if len(self):\n",
    "            self.Normalize()\n",
    "    \n",
    "    def __str__(self):\n",
    "        '''\n",
    "        Stringlize self.pmf\n",
    "        '''\n",
    "        tmpL = [\"Probability table\\n\"]\n",
    "        for hypo, prob in sorted(self.pmf.iteritems()):\n",
    "            tmpL.append('\\t'.join(['',str(hypo), str(prob)]))\n",
    "        return '\\n'.join(tmpL)\n",
    "    \n",
    "    def InitSequence(self, hypos):\n",
    "        \"\"\"\n",
    "        Initialize with a sequence of hypos with equal probabilities.\n",
    "        \n",
    "        hypos: ['H1','H2','H3',...]\n",
    "        \"\"\"\n",
    "        for hypo in hypos:\n",
    "            self.Set(hypo, 1)\n",
    "    \n",
    "    def InitMapping(self, hypos):\n",
    "        \"\"\"\n",
    "        Initialize with a map from value to probablity (a dict).\n",
    "        \n",
    "        hypos = {'H1':1, 'H2':5, 'H3':4}\n",
    "        \"\"\"\n",
    "        for hypo, prob in hypos.iteritems():\n",
    "            self.Set(hypo, prob)\n",
    "    \n",
    "    def InitPmf(self, hypos):\n",
    "        \"\"\"\n",
    "        Initialize with a Bayes object.\n",
    "        \n",
    "        hypos = Bayes()\n",
    "        \"\"\"\n",
    "        for hypo, prob in hypos.iteritems():\n",
    "            self.Set(hypo, prob)\n",
    "    \n",
    "    def InitFailure(self, hypos):\n",
    "        \"\"\"Raise an errot\"\"\"\n",
    "        raise ValueError(\"None of the initialization methods works.\")\n",
    "    \n",
    "    def __len__(self):\n",
    "        return len(self.pmf)\n",
    "    \n",
    "    def Set(self, hypo, prob=0):\n",
    "        \"\"\"\n",
    "        Set hypo-prob pair\n",
    "        \"\"\"\n",
    "        self.pmf[hypo] = prob\n",
    "    \n",
    "    def Print(self):\n",
    "        \"\"\"Print the values and freqs in asending order.\"\"\"\n",
    "        for hypo, prob in sorted(self.pmf.iteritems()):\n",
    "            print hypo, prob\n",
    "    \n",
    "    def Normalize(self):\n",
    "        \"\"\"\n",
    "        Normalize probability\n",
    "        \"\"\"\n",
    "        total = float(sum(self.pmf.values()))\n",
    "        if total == 0.0:\n",
    "            raise ValueError('total probability is zero.')\n",
    "            logging.warning('Normalize: total probability is zero.')\n",
    "            return total\n",
    "        \n",
    "        factor = 1 / total\n",
    "        \n",
    "        for hypo in self.pmf:\n",
    "            self.pmf[hypo] *= factor\n",
    "    \n",
    "    def Items(self):\n",
    "        '''Return two lists, hypos_list and probability_list'''\n",
    "        if isinstance(self.hypos, list):\n",
    "            hypos = self.hypos\n",
    "        else:\n",
    "            hypos = self.pmf.keys()\n",
    "            hypos.sort()\n",
    "        probs = [self.pmf[hypo] for hypo in hypos]\n",
    "        return hypos, probs\n",
    "    \n",
    "    def Max(self):\n",
    "        '''Return the hypothesis with maximum posterior probability'''\n",
    "        max_prob, max_hypo = max([(prob,hypo) for hypo, prob in self.pmf.iteritems()])\n",
    "        return max_hypo, max_prob\n",
    "    \n",
    "    def Mult(self, hypo, likelihood):\n",
    "        '''\n",
    "        Update given hypo probability by given likelihood\n",
    "        '''\n",
    "        self.pmf[hypo] = self.pmf.get(hypo,0) * likelihood\n",
    "    \n",
    "    def Prob(self, hypo, default=0):\n",
    "        \"\"\"\n",
    "        Get the probability of given hypo.\n",
    "        \"\"\"\n",
    "        return self.pmf.get(hypo, default)\n",
    "    \n",
    "    def Update(self,dataL):\n",
    "        '''\n",
    "        Update all hypo probability by given obervation.\n",
    "        \n",
    "        dataL: A list of observations.\n",
    "        '''\n",
    "        for data in dataL:\n",
    "            for hypo, prob in self.pmf.iteritems():\n",
    "                self.pmf[hypo] = prob * self.Likelihood(hypo, data)\n",
    "        self.Normalize()\n",
    "    \n",
    "    def Likelihood(self, hypo, data):\n",
    "        '''\n",
    "        Re-constructed in child class\n",
    "        '''\n",
    "        psss\n",
    "    \n",
    "    def Mean(self):\n",
    "        '''\n",
    "        Compute the weighted hypothesis using posterior probabilities.\n",
    "        '''\n",
    "        total = 0\n",
    "        for hypo, prob in self.pmf.iteritems():\n",
    "            total += hypo * prob\n",
    "        return total\n",
    "    \n",
    "    def Percentile(self, percentage):\n",
    "        '''\n",
    "        Compute a percentile for a given percentage.\n",
    "        \n",
    "        percentage: float from 0 to 100.\n",
    "        ''' \n",
    "        if isinstance(self.hypos, list):\n",
    "            hypos = self.hypos\n",
    "        else:\n",
    "            hypos = self.pmf.keys()\n",
    "            hypos.sort()\n",
    "        total = 0\n",
    "        assert 0<=percentage<=100, \"percentage must between [0,100]\"\n",
    "        percentile_value = percentage / 100.0\n",
    "        for hypo in hypos:\n",
    "            total += self.pmf[hypo]\n",
    "            if total >= percentile_value:\n",
    "                return hypo\n",
    "    def probPlot(self):\n",
    "        hypos, probs = self.Items()\n",
    "        plt.plot(hypos, probs)\n",
    "        plt.xlabel('Hypothses')\n",
    "        plt.ylabel('Probabilities')"
   ]
  },
  {
   "cell_type": "code",
   "execution_count": null,
   "metadata": {
    "collapsed": true
   },
   "outputs": [],
   "source": []
  }
 ],
 "metadata": {
  "kernelspec": {
   "display_name": "Python 2",
   "language": "python",
   "name": "python2"
  },
  "language_info": {
   "codemirror_mode": {
    "name": "ipython",
    "version": 2
   },
   "file_extension": ".py",
   "mimetype": "text/x-python",
   "name": "python",
   "nbconvert_exporter": "python",
   "pygments_lexer": "ipython2",
   "version": "2.7.11"
  }
 },
 "nbformat": 4,
 "nbformat_minor": 0
}
